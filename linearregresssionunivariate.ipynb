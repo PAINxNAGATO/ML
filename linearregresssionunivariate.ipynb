{
 "cells": [
  {
   "cell_type": "code",
   "execution_count": 1,
   "id": "31e3c4a9",
   "metadata": {
    "_cell_guid": "b1076dfc-b9ad-4769-8c92-a6c4dae69d19",
    "_uuid": "8f2839f25d086af736a60e9eeb907d3b93b6e0e5",
    "execution": {
     "iopub.execute_input": "2022-11-26T14:50:45.044872Z",
     "iopub.status.busy": "2022-11-26T14:50:45.044355Z",
     "iopub.status.idle": "2022-11-26T14:50:45.060482Z",
     "shell.execute_reply": "2022-11-26T14:50:45.058975Z"
    },
    "papermill": {
     "duration": 0.025728,
     "end_time": "2022-11-26T14:50:45.063731",
     "exception": false,
     "start_time": "2022-11-26T14:50:45.038003",
     "status": "completed"
    },
    "tags": []
   },
   "outputs": [],
   "source": [
    "import matplotlib.pyplot as plt\n",
    "import numpy as np \n",
    "import pandas as pd"
   ]
  },
  {
   "cell_type": "code",
   "execution_count": 2,
   "id": "89be03a2",
   "metadata": {
    "execution": {
     "iopub.execute_input": "2022-11-26T14:50:45.076274Z",
     "iopub.status.busy": "2022-11-26T14:50:45.074974Z",
     "iopub.status.idle": "2022-11-26T14:50:45.099397Z",
     "shell.execute_reply": "2022-11-26T14:50:45.096809Z"
    },
    "papermill": {
     "duration": 0.035076,
     "end_time": "2022-11-26T14:50:45.103391",
     "exception": false,
     "start_time": "2022-11-26T14:50:45.068315",
     "status": "completed"
    },
    "tags": []
   },
   "outputs": [],
   "source": [
    "data = pd.read_csv(\"/kaggle/input/newcsv/new.csv\")\n"
   ]
  },
  {
   "cell_type": "code",
   "execution_count": 3,
   "id": "d6177d60",
   "metadata": {
    "execution": {
     "iopub.execute_input": "2022-11-26T14:50:45.116183Z",
     "iopub.status.busy": "2022-11-26T14:50:45.115103Z",
     "iopub.status.idle": "2022-11-26T14:50:45.411440Z",
     "shell.execute_reply": "2022-11-26T14:50:45.409021Z"
    },
    "papermill": {
     "duration": 0.305001,
     "end_time": "2022-11-26T14:50:45.414178",
     "exception": false,
     "start_time": "2022-11-26T14:50:45.109177",
     "status": "completed"
    },
    "tags": []
   },
   "outputs": [
    {
     "data": {
      "text/plain": [
       "<matplotlib.collections.PathCollection at 0x7f97b7febad0>"
      ]
     },
     "execution_count": 3,
     "metadata": {},
     "output_type": "execute_result"
    },
    {
     "data": {
      "image/png": "[encoded data removed]",
      "text/plain": [
       "<Figure size 432x288 with 1 Axes>"
      ]
     },
     "metadata": {
      "needs_background": "light"
     },
     "output_type": "display_data"
    }
   ],
   "source": [
    "x = np.array(data['x'])\n",
    "y = np.array(data['y'])\n",
    "plt.scatter(x,y)"
   ]
  },
  {
   "cell_type": "code",
   "execution_count": 4,
   "id": "64db48a4",
   "metadata": {
    "execution": {
     "iopub.execute_input": "2022-11-26T14:50:45.423491Z",
     "iopub.status.busy": "2022-11-26T14:50:45.423076Z",
     "iopub.status.idle": "2022-11-26T14:50:45.629227Z",
     "shell.execute_reply": "2022-11-26T14:50:45.627888Z"
    },
    "papermill": {
     "duration": 0.213877,
     "end_time": "2022-11-26T14:50:45.631834",
     "exception": false,
     "start_time": "2022-11-26T14:50:45.417957",
     "status": "completed"
    },
    "tags": []
   },
   "outputs": [
    {
     "data": {
      "text/plain": [
       "<matplotlib.collections.PathCollection at 0x7f97b7feb750>"
      ]
     },
     "execution_count": 4,
     "metadata": {},
     "output_type": "execute_result"
    },
    {
     "data": {
      "image/png": "[encoded data removed]",
      "text/plain": [
       "<Figure size 432x288 with 1 Axes>"
      ]
     },
     "metadata": {
      "needs_background": "light"
     },
     "output_type": "display_data"
    }
   ],
   "source": [
    "# normalizing the dataset for better prediction.\n",
    "\n",
    "x = (x - np.min(x))/(np.max(x) - np.min(x))\n",
    "y = (y - np.min(y))/(np.max(y) - np.min(y))\n",
    "\n",
    "plt.scatter(x,y)"
   ]
  },
  {
   "cell_type": "code",
   "execution_count": 5,
   "id": "5c3cd01f",
   "metadata": {
    "execution": {
     "iopub.execute_input": "2022-11-26T14:50:45.642187Z",
     "iopub.status.busy": "2022-11-26T14:50:45.641030Z",
     "iopub.status.idle": "2022-11-26T14:50:45.646723Z",
     "shell.execute_reply": "2022-11-26T14:50:45.645618Z"
    },
    "papermill": {
     "duration": 0.013457,
     "end_time": "2022-11-26T14:50:45.649451",
     "exception": false,
     "start_time": "2022-11-26T14:50:45.635994",
     "status": "completed"
    },
    "tags": []
   },
   "outputs": [],
   "source": [
    "# y = mx + c \n",
    "# m , c are the parameters of line equation. \n",
    "m = np.random.random()\n",
    "c = np.random.random()\n"
   ]
  },
  {
   "cell_type": "code",
   "execution_count": 6,
   "id": "9471a344",
   "metadata": {
    "execution": {
     "iopub.execute_input": "2022-11-26T14:50:45.659513Z",
     "iopub.status.busy": "2022-11-26T14:50:45.659123Z",
     "iopub.status.idle": "2022-11-26T14:50:45.665497Z",
     "shell.execute_reply": "2022-11-26T14:50:45.664541Z"
    },
    "papermill": {
     "duration": 0.014485,
     "end_time": "2022-11-26T14:50:45.668000",
     "exception": false,
     "start_time": "2022-11-26T14:50:45.653515",
     "status": "completed"
    },
    "tags": []
   },
   "outputs": [],
   "source": [
    "def learn(x,y,m,c,epoch):\n",
    "    for i in range(epoch):\n",
    "        error = y - (m*x + c)\n",
    "        x_error = (y - (m*c + c))*x\n",
    "        error = np.sum(error)/len(x)\n",
    "        x_error = np.sum(x_error)/len(x) \n",
    "        learning_rate = 0.01\n",
    "        delta_m = learning_rate*x_error\n",
    "        delta_c = learning_rate*error\n",
    "        m += delta_m\n",
    "        c += delta_c\n",
    "    return (m,c)"
   ]
  },
  {
   "cell_type": "code",
   "execution_count": 7,
   "id": "3ff19668",
   "metadata": {
    "execution": {
     "iopub.execute_input": "2022-11-26T14:50:45.678315Z",
     "iopub.status.busy": "2022-11-26T14:50:45.677134Z",
     "iopub.status.idle": "2022-11-26T14:50:45.701403Z",
     "shell.execute_reply": "2022-11-26T14:50:45.699872Z"
    },
    "papermill": {
     "duration": 0.03174,
     "end_time": "2022-11-26T14:50:45.703800",
     "exception": false,
     "start_time": "2022-11-26T14:50:45.672060",
     "status": "completed"
    },
    "tags": []
   },
   "outputs": [
    {
     "name": "stdout",
     "output_type": "stream",
     "text": [
      "-0.14572181693673023 0.4955705790288878\n"
     ]
    }
   ],
   "source": [
    "m,c = learn(x,y,m,c,1000)\n",
    "print(m,c)"
   ]
  },
  {
   "cell_type": "code",
   "execution_count": 8,
   "id": "188f76cd",
   "metadata": {
    "execution": {
     "iopub.execute_input": "2022-11-26T14:50:45.713379Z",
     "iopub.status.busy": "2022-11-26T14:50:45.712958Z",
     "iopub.status.idle": "2022-11-26T14:50:45.718480Z",
     "shell.execute_reply": "2022-11-26T14:50:45.717181Z"
    },
    "papermill": {
     "duration": 0.013367,
     "end_time": "2022-11-26T14:50:45.721094",
     "exception": false,
     "start_time": "2022-11-26T14:50:45.707727",
     "status": "completed"
    },
    "tags": []
   },
   "outputs": [],
   "source": [
    "x1 = [0,1]\n",
    "y1 = [0*m + c,1*m + c]"
   ]
  },
  {
   "cell_type": "code",
   "execution_count": 9,
   "id": "350774ab",
   "metadata": {
    "execution": {
     "iopub.execute_input": "2022-11-26T14:50:45.731005Z",
     "iopub.status.busy": "2022-11-26T14:50:45.730547Z",
     "iopub.status.idle": "2022-11-26T14:50:45.950309Z",
     "shell.execute_reply": "2022-11-26T14:50:45.949385Z"
    },
    "papermill": {
     "duration": 0.227355,
     "end_time": "2022-11-26T14:50:45.952628",
     "exception": false,
     "start_time": "2022-11-26T14:50:45.725273",
     "status": "completed"
    },
    "tags": []
   },
   "outputs": [
    {
     "data": {
      "text/plain": [
       "[<matplotlib.lines.Line2D at 0x7f97cd95fa50>]"
      ]
     },
     "execution_count": 9,
     "metadata": {},
     "output_type": "execute_result"
    },
    {
     "data": {
      "image/png": "[encoded data removed]",
      "text/plain": [
       "<Figure size 432x288 with 1 Axes>"
      ]
     },
     "metadata": {
      "needs_background": "light"
     },
     "output_type": "display_data"
    }
   ],
   "source": [
    "plt.scatter(x,y)\n",
    "plt.plot(x1,y1)"
   ]
  }
 ],
 "metadata": {
  "kernelspec": {
   "display_name": "Python 3",
   "language": "python",
   "name": "python3"
  },
  "language_info": {
   "codemirror_mode": {
    "name": "ipython",
    "version": 3
   },
   "file_extension": ".py",
   "mimetype": "text/x-python",
   "name": "python",
   "nbconvert_exporter": "python",
   "pygments_lexer": "ipython3",
   "version": "3.7.12"
  },
  "papermill": {
   "default_parameters": {},
   "duration": 10.663873,
   "end_time": "2022-11-26T14:50:46.683052",
   "environment_variables": {},
   "exception": null,
   "input_path": "__notebook__.ipynb",
   "output_path": "__notebook__.ipynb",
   "parameters": {},
   "start_time": "2022-11-26T14:50:36.019179",
   "version": "2.3.4"
  }
 },
 "nbformat": 4,
 "nbformat_minor": 5
}
